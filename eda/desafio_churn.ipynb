{
 "cells": [
  {
   "cell_type": "code",
   "execution_count": 14,
   "metadata": {},
   "outputs": [],
   "source": [
    "import pandas as pd\n",
    "from scipy.stats import chi2_contingency\n",
    "\n",
    "\n",
    "df_customers = pd.read_csv(r'./churn_customers.csv')\n",
    "df_services = pd.read_csv(r'./churn_services.csv')\n",
    "df_contracts = pd.read_csv(r'./churn_contracts.csv')\n",
    "\n",
    "df_with_all_data = df_customers.merge(df_services, left_on=['customerID'], right_on=['customerID']\n",
    "        ).merge(df_contracts, left_on=['customerID'], right_on=['customerID'])"
   ]
  },
  {
   "cell_type": "markdown",
   "metadata": {},
   "source": [
    "### VALIDANDO SE FAIXA ETÁRIA TEM FORTE ASSOSIOAÇÃO AO CHURN"
   ]
  },
  {
   "cell_type": "code",
   "execution_count": 17,
   "metadata": {},
   "outputs": [],
   "source": [
    "# FAZENDO CROSSOVER DE DADOS\n",
    "cross_df_data_senior_churn = pd.crosstab(\n",
    "    df_with_all_data['Churn'], \n",
    "    df_with_all_data['SeniorCitizen'], \n",
    ")\n"
   ]
  },
  {
   "cell_type": "code",
   "execution_count": 28,
   "metadata": {},
   "outputs": [
    {
     "data": {
      "text/html": [
       "<div>\n",
       "<style scoped>\n",
       "    .dataframe tbody tr th:only-of-type {\n",
       "        vertical-align: middle;\n",
       "    }\n",
       "\n",
       "    .dataframe tbody tr th {\n",
       "        vertical-align: top;\n",
       "    }\n",
       "\n",
       "    .dataframe thead th {\n",
       "        text-align: right;\n",
       "    }\n",
       "</style>\n",
       "<table border=\"1\" class=\"dataframe\">\n",
       "  <thead>\n",
       "    <tr style=\"text-align: right;\">\n",
       "      <th></th>\n",
       "      <th>Score</th>\n",
       "      <th>P_values</th>\n",
       "    </tr>\n",
       "  </thead>\n",
       "  <tbody>\n",
       "    <tr>\n",
       "      <th>0</th>\n",
       "      <td>159.426300368387416</td>\n",
       "      <td>0.000000000000000</td>\n",
       "    </tr>\n",
       "  </tbody>\n",
       "</table>\n",
       "</div>"
      ],
      "text/plain": [
       "                Score          P_values\n",
       "0 159.426300368387416 0.000000000000000"
      ]
     },
     "execution_count": 28,
     "metadata": {},
     "output_type": "execute_result"
    }
   ],
   "source": [
    "chi_data = chi2_contingency(cross_df_data_senior_churn)\n",
    "\n",
    "pd.set_option('display.float_format', lambda x: '%.15f' % x)\n",
    "\n",
    "chi_data_score = pd.Series(chi_data[0])\n",
    "chi_data_p_value = pd.Series(chi_data[1])\n",
    "\n",
    "df_with_scores = pd.DataFrame({'Score': chi_data_score, 'P_values': chi_data_p_value})\n",
    "df_with_scores"
   ]
  },
  {
   "cell_type": "markdown",
   "metadata": {},
   "source": [
    "COM BASE NAS VISUALIZAÇÕES, AS INFORMAÇÕES NÃO SÃO INDEPENDENTES, MAS TAMBÉM A MEDIDA DE RELAÇÃO AO SCORE É BAIXA"
   ]
  },
  {
   "cell_type": "markdown",
   "metadata": {},
   "source": [
    "### VALIDANDO SE O CONTRATO MENSAL ESTÁ MAIS PROPENSO AO CHURN"
   ]
  }
 ],
 "metadata": {
  "kernelspec": {
   "display_name": "AIDeveloper-IJJLBaxx",
   "language": "python",
   "name": "python3"
  },
  "language_info": {
   "codemirror_mode": {
    "name": "ipython",
    "version": 3
   },
   "file_extension": ".py",
   "mimetype": "text/x-python",
   "name": "python",
   "nbconvert_exporter": "python",
   "pygments_lexer": "ipython3",
   "version": "3.11.0"
  }
 },
 "nbformat": 4,
 "nbformat_minor": 2
}
